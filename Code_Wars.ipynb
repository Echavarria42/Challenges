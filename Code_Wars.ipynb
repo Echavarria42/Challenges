{
 "cells": [
  {
   "cell_type": "markdown",
   "metadata": {},
   "source": [
    "*Punto espejo* = Si la suma de los números de ese punto hacia la izquierda son las mismas que de ese punto a la derecha"
   ]
  },
  {
   "cell_type": "code",
   "execution_count": null,
   "metadata": {},
   "outputs": [],
   "source": [
    "N_1 = [10,40,30,20]\n",
    "N_2 = [0,0,0,0]\n",
    "N_3 = [1,-1,1,-1,1,-1]\n",
    "\n",
    "def punto_espejo(N):\n",
    "    counter_points = 0\n",
    "    for i in range(len(N-1)):\n",
    "        if sum(N[:i+1]) == sum(N[i+1:]):\n",
    "            counter_points += 1\n",
    "    return counter_points\n",
    "\n",
    "print(punto_espejo(N_1), punto_espejo(N_2), punto_espejo(N_3))\n",
    "    "
   ]
  },
  {
   "cell_type": "markdown",
   "metadata": {},
   "source": [
    "*Divisores de N*"
   ]
  },
  {
   "cell_type": "code",
   "execution_count": null,
   "metadata": {},
   "outputs": [],
   "source": [
    "def divisor(N):\n",
    "    solution = [i for i in range(2,N) if N % i == 0]\n",
    "    return 'Prime' if len(solution) == 0 else solution\n",
    "\n",
    "print(divisor(7), divisor(144))"
   ]
  },
  {
   "cell_type": "markdown",
   "metadata": {},
   "source": [
    "*Eleva cada digito individual y luego lo une en un nuevo int*"
   ]
  },
  {
   "cell_type": "code",
   "execution_count": null,
   "metadata": {},
   "outputs": [],
   "source": [
    "def square_digits(num):\n",
    "    ans = ''\n",
    "    for i in str(num):\n",
    "        ans += str(int(i)**2) \n",
    "    return int(ans)\n",
    "\n",
    "print(square_digits(254))"
   ]
  },
  {
   "cell_type": "markdown",
   "metadata": {},
   "source": [
    "*Poner un espacio antes de cada mayuscula*"
   ]
  },
  {
   "cell_type": "code",
   "execution_count": null,
   "metadata": {},
   "outputs": [],
   "source": [
    "def solution(string):\n",
    "    respuesta = ''\n",
    "    for i in list(string):\n",
    "        if i.isupper() == True:\n",
    "            respuesta += (' ' + i)\n",
    "        else:\n",
    "            respuesta += i\n",
    "    return respuesta\n",
    "\n",
    "print(solution('jhHoasLK'))"
   ]
  },
  {
   "cell_type": "markdown",
   "metadata": {},
   "source": [
    "*Sumar los digitos*"
   ]
  },
  {
   "cell_type": "code",
   "execution_count": null,
   "metadata": {},
   "outputs": [],
   "source": [
    "def sum_digits(number):\n",
    "    return sum([ int(i) for i in list(str(number))])\n",
    "\n",
    "print(sum_digits(123))"
   ]
  },
  {
   "cell_type": "markdown",
   "metadata": {},
   "source": [
    "*Comparar placas*"
   ]
  },
  {
   "cell_type": "code",
   "execution_count": null,
   "metadata": {},
   "outputs": [],
   "source": [
    "lista = []\n",
    "num_pruebas = int(input())\n",
    "for i in range(num_pruebas):\n",
    "    placas = input().split(' ')\n",
    "    lista.append(placas)\n",
    "\n",
    "letras = ['A','B','C','D','E','F','G','H','I','J','K','L','M','N','O','P','Q','R','S','T','U','V','W','X','Y','Z']\n",
    "def contar_placa(placa):\n",
    "    num = int(placa[3:])\n",
    "    for i in range(3):\n",
    "        num += int(letras.index(placa[i]))*(10**(2-i))\n",
    "    return num\n",
    "    \n",
    "for i in lista:\n",
    "    my_car = i[0]\n",
    "    counter = 0\n",
    "    for j in range(len(i)):\n",
    "      if contar_placa(my_car) >= contar_placa(i[j]):\n",
    "        counter +=1\n",
    "    \n",
    "    if counter == 1:\n",
    "      print('Mi cacharrito es el mas viejo de todos los autos ;D')\n",
    "    else:\n",
    "      print('Al menos otro es mas viejo que mi cacharrito :(')\n",
    "                   "
   ]
  }
 ],
 "metadata": {
  "kernelspec": {
   "display_name": "Python 3",
   "language": "python",
   "name": "python3"
  },
  "language_info": {
   "codemirror_mode": {
    "name": "ipython",
    "version": 3
   },
   "file_extension": ".py",
   "mimetype": "text/x-python",
   "name": "python",
   "nbconvert_exporter": "python",
   "pygments_lexer": "ipython3",
   "version": "3.7.6"
  }
 },
 "nbformat": 4,
 "nbformat_minor": 4
}
