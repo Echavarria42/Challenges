{
 "cells": [
  {
   "cell_type": "markdown",
   "source": [
    "*Punto espejo* = Si la suma de los números de ese punto hacia la izquierda son las mismas que de ese punto a la derecha"
   ],
   "metadata": {}
  },
  {
   "cell_type": "code",
   "execution_count": null,
   "source": [
    "N_1 = [10,40,30,20]\r\n",
    "N_2 = [0,0,0,0]\r\n",
    "N_3 = [1,-1,1,-1,1,-1]\r\n",
    "\r\n",
    "def punto_espejo(N):\r\n",
    "    counter_points = 0\r\n",
    "    for i in range(len(N-1)):\r\n",
    "        if sum(N[:i+1]) == sum(N[i+1:]):\r\n",
    "            counter_points += 1\r\n",
    "    return counter_points\r\n",
    "\r\n",
    "print(punto_espejo(N_1), punto_espejo(N_2), punto_espejo(N_3))\r\n",
    "    "
   ],
   "outputs": [],
   "metadata": {}
  },
  {
   "cell_type": "markdown",
   "source": [
    "*Divisores de N*"
   ],
   "metadata": {}
  },
  {
   "cell_type": "code",
   "execution_count": null,
   "source": [
    "def divisor(N):\r\n",
    "    solution = [i for i in range(2,N) if N % i == 0]\r\n",
    "    return 'Prime' if len(solution) == 0 else solution\r\n",
    "\r\n",
    "print(divisor(7), divisor(144))"
   ],
   "outputs": [],
   "metadata": {}
  },
  {
   "cell_type": "markdown",
   "source": [
    "*Eleva cada digito individual y luego lo une en un nuevo int*"
   ],
   "metadata": {}
  },
  {
   "cell_type": "code",
   "execution_count": null,
   "source": [
    "def square_digits(num):\r\n",
    "    ans = ''\r\n",
    "    for i in str(num):\r\n",
    "        ans += str(int(i)**2) \r\n",
    "    return int(ans)\r\n",
    "\r\n",
    "print(square_digits(254))"
   ],
   "outputs": [],
   "metadata": {}
  },
  {
   "cell_type": "markdown",
   "source": [
    "*Poner un espacio antes de cada mayuscula*"
   ],
   "metadata": {}
  },
  {
   "cell_type": "code",
   "execution_count": null,
   "source": [
    "def solution(string):\r\n",
    "    respuesta = ''\r\n",
    "    for i in list(string):\r\n",
    "        if i.isupper() == True:\r\n",
    "            respuesta += (' ' + i)\r\n",
    "        else:\r\n",
    "            respuesta += i\r\n",
    "    return respuesta\r\n",
    "\r\n",
    "print(solution('jhHoasLK'))"
   ],
   "outputs": [],
   "metadata": {}
  },
  {
   "cell_type": "markdown",
   "source": [
    "*Sumar los digitos*"
   ],
   "metadata": {}
  },
  {
   "cell_type": "code",
   "execution_count": null,
   "source": [
    "def sum_digits(number):\n",
    "    return sum([ int(i) for i in list(str(number))])\n",
    "\n",
    "print(sum_digits(123))"
   ],
   "outputs": [],
   "metadata": {}
  },
  {
   "cell_type": "markdown",
   "source": [
    "*Comparar placas*"
   ],
   "metadata": {}
  },
  {
   "cell_type": "code",
   "execution_count": null,
   "source": [
    "lista = []\n",
    "num_pruebas = int(input())\n",
    "for i in range(num_pruebas):\n",
    "    placas = input().split(' ')\n",
    "    lista.append(placas)\n",
    "\n",
    "letras = ['A','B','C','D','E','F','G','H','I','J','K','L','M','N','O','P','Q','R','S','T','U','V','W','X','Y','Z']\n",
    "def contar_placa(placa):\n",
    "    num = int(placa[3:])\n",
    "    for i in range(3):\n",
    "        num += int(letras.index(placa[i]))*(10**(2-i))\n",
    "    return num\n",
    "    \n",
    "for i in lista:\n",
    "    my_car = i[0]\n",
    "    counter = 0\n",
    "    for j in range(len(i)):\n",
    "      if contar_placa(my_car) >= contar_placa(i[j]):\n",
    "        counter +=1\n",
    "    \n",
    "    if counter == 1:\n",
    "      print('Mi cacharrito es el mas viejo de todos los autos ;D')\n",
    "    else:\n",
    "      print('Al menos otro es mas viejo que mi cacharrito :(')\n",
    "                   "
   ],
   "outputs": [],
   "metadata": {}
  }
 ],
 "metadata": {
  "kernelspec": {
   "display_name": "Python 3",
   "language": "python",
   "name": "python3"
  },
  "language_info": {
   "codemirror_mode": {
    "name": "ipython",
    "version": 3
   },
   "file_extension": ".py",
   "mimetype": "text/x-python",
   "name": "python",
   "nbconvert_exporter": "python",
   "pygments_lexer": "ipython3",
   "version": "3.7.6"
  }
 },
 "nbformat": 4,
 "nbformat_minor": 4
}